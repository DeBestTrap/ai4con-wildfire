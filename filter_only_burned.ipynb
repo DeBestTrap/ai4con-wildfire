{
 "cells": [
  {
   "cell_type": "markdown",
   "metadata": {},
   "source": [
    "This notebook filters the dataset to only include images with burned pixels. They will be saved to a new directory."
   ]
  },
  {
   "cell_type": "code",
   "execution_count": 2,
   "metadata": {},
   "outputs": [
    {
     "name": "stdout",
     "output_type": "stream",
     "text": [
      "Number of images: 22096\n",
      "Number of images with burned pixels: 1872\n"
     ]
    }
   ],
   "source": [
    "\n",
    "import numpy as np\n",
    "import os\n",
    "\n",
    "data_dir = \"data_full\"\n",
    "file_list = [f for f in os.listdir(data_dir) if f.endswith('npz')]\n",
    "print(f\"Number of images: {len(file_list)}\")\n",
    "\n",
    "def load_data(idx):\n",
    "    file_path = os.path.join(data_dir, file_list[idx])\n",
    "    data = np.load(file_path)\n",
    "    return data\n",
    "\n",
    "save_dir = \"data_full_burned\"\n",
    "if not os.path.exists(save_dir):\n",
    "    os.makedirs(save_dir)\n",
    "\n",
    "ctr = 0\n",
    "for i in range(len(file_list)):\n",
    "    data = load_data(i)\n",
    "    if 1 in data['mask']:\n",
    "        np.savez(f\"{save_dir}/{file_list[i]}.npz\", **data)\n",
    "        ctr += 1\n",
    "print(f\"Number of images with burned pixels: {ctr}\")"
   ]
  }
 ],
 "metadata": {
  "kernelspec": {
   "display_name": "ai4con",
   "language": "python",
   "name": "python3"
  },
  "language_info": {
   "codemirror_mode": {
    "name": "ipython",
    "version": 3
   },
   "file_extension": ".py",
   "mimetype": "text/x-python",
   "name": "python",
   "nbconvert_exporter": "python",
   "pygments_lexer": "ipython3",
   "version": "3.10.14"
  }
 },
 "nbformat": 4,
 "nbformat_minor": 2
}
