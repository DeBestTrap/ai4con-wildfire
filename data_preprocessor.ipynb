{
 "cells": [
  {
   "cell_type": "markdown",
   "metadata": {},
   "source": [
    "# Data Preprocessor\n",
    "\n",
    "outputs:\n",
    "- copies data to train, val, test directories\n",
    "- json of mean and std of each channel: r, g, b, swir2, nir, swir1 "
   ]
  },
  {
   "cell_type": "code",
   "execution_count": 1,
   "metadata": {},
   "outputs": [],
   "source": [
    "import os\n",
    "import numpy as np\n",
    "import random\n",
    "import shutil\n",
    "import json\n",
    "\n",
    "# Parameters\n",
    "data_dir = \"./data_infrared/\"\n",
    "save_dir = \"./data_infrared_split/\"\n",
    "train_ratio = 0.7\n",
    "val_ratio = 0.15\n",
    "test_ratio = 0.15\n",
    "\n",
    "# Split the data into train, val, and test sets\n",
    "file_list = os.listdir(data_dir)\n",
    "train_size = int(train_ratio * len(file_list))\n",
    "val_size = int(val_ratio * len(file_list))\n",
    "test_size = len(file_list) - train_size - val_size\n",
    "\n",
    "# Make sure the split sizes add up to the total size\n",
    "assert train_size + val_size + test_size == len(file_list), \"Split sizes do not add up to total size\"\n",
    "\n",
    "# Split the data into train, val, and test sets\n",
    "random.shuffle(file_list)\n",
    "train_file_list = file_list[:train_size]\n",
    "val_file_list = file_list[train_size:train_size+val_size]\n",
    "test_file_list = file_list[train_size+val_size:]\n",
    "\n",
    "def copy_split(split:str, file_list:list):\n",
    "    '''\n",
    "    Arguments:\n",
    "        split: train, val, or test string\n",
    "        file_list: list of file names in the data directory\n",
    "    '''\n",
    "    assert split in [\"train\", \"val\", \"test\"], \"split must be train, val, or test\"\n",
    "\n",
    "    # Create the split directory if it doesn't exist\n",
    "    if not os.path.exists(os.path.join(save_dir, split)):\n",
    "        os.makedirs(os.path.join(save_dir, split))\n",
    "\n",
    "    # Copy the files to the split directory\n",
    "    for file in file_list:\n",
    "        file:str\n",
    "        if not file.endswith(\".npz\"):\n",
    "            continue\n",
    "\n",
    "        from_path = os.path.join(data_dir, file)\n",
    "        to_path = os.path.join(save_dir, split, file)\n",
    "        shutil.copy(from_path, to_path)\n",
    "\n",
    "copy_split(\"train\", train_file_list)\n",
    "copy_split(\"val\", val_file_list)\n",
    "copy_split(\"test\", test_file_list)"
   ]
  },
  {
   "cell_type": "code",
   "execution_count": 2,
   "metadata": {},
   "outputs": [
    {
     "name": "stdout",
     "output_type": "stream",
     "text": [
      "[0.08886919 0.07239396 0.04874872 0.14343218 0.20228706 0.2078192 ]\n",
      "[0.07472857 0.06264118 0.05680478 0.09022863 0.09870495 0.10954753]\n"
     ]
    }
   ],
   "source": [
    "# Compute the mean and standard deviation of the training data\n",
    "all_pixels = []\n",
    "for file in train_file_list:\n",
    "    if not file.endswith(\".npz\"):\n",
    "        continue\n",
    "\n",
    "    # Load the data\n",
    "    file_path = os.path.join(data_dir, file)\n",
    "    data = np.load(file_path)\n",
    "\n",
    "    # image shape: (H, W, C)\n",
    "    image = data['image']\n",
    "\n",
    "    # pixels shape: (H*W, C)\n",
    "    pixels = image.reshape(-1, image.shape[2])\n",
    "    all_pixels.append(pixels)\n",
    "\n",
    "# Concatenate all the pixels to be (total_pixels, C)\n",
    "all_pixels = np.concatenate(all_pixels, axis=0)\n",
    "\n",
    "# Compute the mean and standard deviation of each channel (R, G, B, SWIR2, NIR, SWIR1)\n",
    "# shape: (, C)\n",
    "mean = np.mean(all_pixels, axis=0)\n",
    "std = np.std(all_pixels, axis=0)\n",
    "print(mean)\n",
    "print(std)\n",
    "\n",
    "# Save the mean and std to a file\n",
    "d = {\n",
    "    \"mean\": mean.tolist(),\n",
    "    \"std\": std.tolist()\n",
    "}\n",
    "json.dump(d, open(os.path.join(save_dir, \"mean_std.json\"), \"w\"))"
   ]
  }
 ],
 "metadata": {
  "kernelspec": {
   "display_name": "ai4con",
   "language": "python",
   "name": "python3"
  },
  "language_info": {
   "codemirror_mode": {
    "name": "ipython",
    "version": 3
   },
   "file_extension": ".py",
   "mimetype": "text/x-python",
   "name": "python",
   "nbconvert_exporter": "python",
   "pygments_lexer": "ipython3",
   "version": "3.10.14"
  }
 },
 "nbformat": 4,
 "nbformat_minor": 2
}
