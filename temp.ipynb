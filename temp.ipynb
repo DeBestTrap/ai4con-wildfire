{
 "cells": [
  {
   "cell_type": "code",
   "execution_count": 1,
   "metadata": {
    "scrolled": true
   },
   "outputs": [
    {
     "ename": "ModuleNotFoundError",
     "evalue": "No module named 'lib.data'",
     "output_type": "error",
     "traceback": [
      "\u001b[0;31m---------------------------------------------------------------------------\u001b[0m",
      "\u001b[0;31mModuleNotFoundError\u001b[0m                       Traceback (most recent call last)",
      "Cell \u001b[0;32mIn[1], line 4\u001b[0m\n\u001b[1;32m      1\u001b[0m \u001b[38;5;28;01mimport\u001b[39;00m \u001b[38;5;21;01mos\u001b[39;00m\n\u001b[1;32m      2\u001b[0m \u001b[38;5;28;01mimport\u001b[39;00m \u001b[38;5;21;01mnumpy\u001b[39;00m \u001b[38;5;28;01mas\u001b[39;00m \u001b[38;5;21;01mnp\u001b[39;00m\n\u001b[0;32m----> 4\u001b[0m \u001b[38;5;28;01mfrom\u001b[39;00m \u001b[38;5;21;01mlib\u001b[39;00m\u001b[38;5;21;01m.\u001b[39;00m\u001b[38;5;21;01mdebug\u001b[39;00m \u001b[38;5;28;01mimport\u001b[39;00m plot_rgb, plot_burned_area_mask, plot_highlighted_rgb\n\u001b[1;32m      6\u001b[0m np\u001b[38;5;241m.\u001b[39mrandom\u001b[38;5;241m.\u001b[39mseed(\u001b[38;5;241m42\u001b[39m) \u001b[38;5;66;03m# The Key To The Universe\u001b[39;00m\n\u001b[1;32m      8\u001b[0m \u001b[38;5;66;03m# Load blocks from data folder\u001b[39;00m\n",
      "File \u001b[0;32m~/Documents/College/Fall2024/Conservation/hw/FinalProject/ai4con-wildfire/lib/debug.py:3\u001b[0m\n\u001b[1;32m      1\u001b[0m \u001b[38;5;28;01mimport\u001b[39;00m \u001b[38;5;21;01mmatplotlib\u001b[39;00m\u001b[38;5;21;01m.\u001b[39;00m\u001b[38;5;21;01mpyplot\u001b[39;00m \u001b[38;5;28;01mas\u001b[39;00m \u001b[38;5;21;01mplt\u001b[39;00m\n\u001b[0;32m----> 3\u001b[0m \u001b[38;5;28;01mfrom\u001b[39;00m \u001b[38;5;21;01mlib\u001b[39;00m\u001b[38;5;21;01m.\u001b[39;00m\u001b[38;5;21;01mdata\u001b[39;00m \u001b[38;5;28;01mimport\u001b[39;00m remove_filler_values, rgb_float_to_uint8\n\u001b[1;32m      5\u001b[0m \u001b[38;5;28;01mdef\u001b[39;00m \u001b[38;5;21mplot_burned_area_mask\u001b[39m(mask):\n\u001b[1;32m      6\u001b[0m     plt\u001b[38;5;241m.\u001b[39mfigure(figsize\u001b[38;5;241m=\u001b[39m(\u001b[38;5;241m10\u001b[39m, \u001b[38;5;241m10\u001b[39m))\n",
      "\u001b[0;31mModuleNotFoundError\u001b[0m: No module named 'lib.data'"
     ]
    }
   ],
   "source": [
    "import os\n",
    "import numpy as np\n",
    "\n",
    "from lib.debug import plot_rgb, plot_burned_area_mask, plot_highlighted_rgb\n",
    "\n",
    "np.random.seed(42) # The Key To The Universe\n",
    "\n",
    "# Load blocks from data folder\n",
    "data_dir = \"./data/\"\n",
    "rgb_blocks = []\n",
    "mask_blocks = []\n",
    "for block_path in os.listdir(data_dir):\n",
    "    # Skip if not the correct file type\n",
    "    if not block_path.endswith(\".npz\"):\n",
    "        continue\n",
    "\n",
    "    # Load the data and assign to the correct list\n",
    "    data = np.load(os.path.join(data_dir, block_path))\n",
    "    rgb_blocks.append(data[\"rgb\"])\n",
    "    mask_blocks.append(data[\"mask\"])\n",
    "\n",
    "\n",
    "# Example: Analyze burned area in each block\n",
    "burned_area_per_block = [np.sum(block == 1) for block in mask_blocks]\n",
    "\n",
    "# Select 15 random blocks\n",
    "block_indices = np.arange(len(mask_blocks))\n",
    "random_indices = np.random.choice(block_indices, size=15, replace=False)\n",
    "\n",
    "# Print the results and show blocks with burned areas\n",
    "for idx in random_indices:\n",
    "    burned_pixels = burned_area_per_block[idx]\n",
    "    if burned_pixels > 0:\n",
    "        print(f\"Block {idx}: {burned_pixels} burned pixels\")\n",
    "        plot_highlighted_rgb(rgb_blocks[idx], mask_blocks[idx])\n",
    "        plot_burned_area_mask(mask_blocks[idx])"
   ]
  },
  {
   "cell_type": "markdown",
   "metadata": {},
   "source": [
    "# Metric Examples\n",
    "- Intersection over Union (IoU)\n",
    "- Dice Coefficent\n",
    "- Pixel Accuracy"
   ]
  },
  {
   "cell_type": "code",
   "execution_count": null,
   "metadata": {},
   "outputs": [],
   "source": [
    "# Metric Preperation\n",
    "import torch\n",
    "from lib.metrics.data import remove_filler_values\n",
    "\n",
    "clean_mask_blocks = []\n",
    "\n",
    "for block in mask_blocks:\n",
    "    mask = remove_filler_values(block)\n",
    "    mask[mask == 255] = 0 # Ignoring fill values\n",
    "    clean_mask_blocks.append(mask)\n",
    "\n",
    "mask_tensors = torch.tensor(np.stack(mask_blocks))\n",
    "\n",
    "# Generate mock predicted masks (random binary masks)\n",
    "predicted_tensors = torch.randint(0, 2, mask_tensors.shape)"
   ]
  },
  {
   "cell_type": "code",
   "execution_count": null,
   "metadata": {},
   "outputs": [],
   "source": [
    "# IOU\n",
    "from lib.metrics.iou import iou\n",
    "\n",
    "iou_scores = iou(mask_tensors, predicted_tensors)\n",
    "print(f\"Example IoU - index 44: {iou_scores[44].item():.4f}\")"
   ]
  },
  {
   "cell_type": "code",
   "execution_count": null,
   "metadata": {},
   "outputs": [],
   "source": [
    "# Dice Coefficient\n",
    "from lib.metrics.dice import dice_coefficient\n",
    "\n",
    "# Compute Dice coefficient for the batch\n",
    "dice_scores = dice_coefficient(mask_tensors, predicted_tensors)\n",
    "print(f\"Example Dice Coefficient - index 44: {dice_scores[44].item():.4f}\")"
   ]
  },
  {
   "cell_type": "code",
   "execution_count": null,
   "metadata": {},
   "outputs": [],
   "source": [
    "from lib.accuracy import pixel_accuracy\n",
    "\n",
    "pixel_accuracies = pixel_accuracy(mask_tensors, predicted_tensors)\n",
    "print(f\"Example Pixel Accuracy - index 44: {pixel_accuracies[43].item():.4f}\")"
   ]
  }
 ],
 "metadata": {
  "kernelspec": {
   "display_name": "Python 3 (ipykernel)",
   "language": "python",
   "name": "python3"
  },
  "language_info": {
   "codemirror_mode": {
    "name": "ipython",
    "version": 3
   },
   "file_extension": ".py",
   "mimetype": "text/x-python",
   "name": "python",
   "nbconvert_exporter": "python",
   "pygments_lexer": "ipython3",
   "version": "3.12.5"
  }
 },
 "nbformat": 4,
 "nbformat_minor": 4
}
