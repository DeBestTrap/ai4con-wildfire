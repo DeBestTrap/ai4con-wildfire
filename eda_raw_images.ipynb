{
 "cells": [
  {
   "cell_type": "code",
   "execution_count": 1,
   "metadata": {},
   "outputs": [
    {
     "name": "stdout",
     "output_type": "stream",
     "text": [
      "Total number of TIF files: 10265\n",
      "Number of CONUS TIF files: 9176\n",
      "Number of ALASKA TIF files: 913\n",
      "Number of HAWAII TIF files: 176\n",
      "Mask satellite date range: 2024-10-19 to 2024-11-08\n",
      "RGB satellite date range:  2024-10-28 to 2024-11-11\n",
      "Mask process date range:   2024-10-25 to 2024-11-13\n",
      "RGB process date range:    2024-11-02 to 2024-11-19\n"
     ]
    }
   ],
   "source": [
    "import os\n",
    "from datetime import datetime\n",
    "\n",
    "dir = \"/mnt/csdrive/landsat/combined/\"\n",
    "\n",
    "def string_to_date(date_string) -> datetime:\n",
    "    '''\n",
    "    Convert a string to a datetime object\n",
    "    '''\n",
    "    try:\n",
    "        return datetime.strptime(date_string, \"%Y%m%d\")\n",
    "    except ValueError as e:\n",
    "        raise ValueError(f\"Invalid date string format: {date_string}. Expected format is YYYYMMDD.\") from e\n",
    "\n",
    "def update_date_range(current_earliest, current_latest, new_date):\n",
    "    '''\n",
    "    Update the earliest and latest dates\n",
    "    '''\n",
    "    if current_earliest is None or new_date < current_earliest:\n",
    "        current_earliest = new_date\n",
    "    if current_latest is None or new_date > current_latest:\n",
    "        current_latest = new_date\n",
    "    return current_earliest, current_latest\n",
    "\n",
    "\n",
    "tif_file_count = 0\n",
    "mask_earliest_satellite_date = mask_latest_satellite_date = None\n",
    "mask_earliest_process_date = mask_latest_process_date = None\n",
    "rgb_earliest_satellite_date = rgb_latest_satellite_date = None\n",
    "rgb_earliest_process_date = rgb_latest_process_date = None\n",
    "conus_count = alaska_count = hawaii_count = 0\n",
    "for file in os.listdir(dir):\n",
    "    if not file.endswith(\".TIF\"):\n",
    "        continue\n",
    "\n",
    "    # Count total number of TIF files\n",
    "    tif_file_count += 1\n",
    "    \n",
    "    # Count number of TIF files with CONUS, ALASKA, and HAWAII\n",
    "    if \"CU\" in file:\n",
    "        conus_count += 1\n",
    "    elif \"AK\" in file:\n",
    "        alaska_count += 1\n",
    "    elif \"HI\" in file:\n",
    "        hawaii_count += 1\n",
    "\n",
    "    # Get earliest and latest date for mask and RGB\n",
    "    satellite_date = string_to_date(file.split(\"_\")[3])\n",
    "    process_date = string_to_date(file.split(\"_\")[4])\n",
    "    if \"B2\" in file:\n",
    "        rgb_earliest_satellite_date, rgb_latest_satellite_date = update_date_range(rgb_earliest_satellite_date, rgb_latest_satellite_date, satellite_date)\n",
    "        rgb_earliest_process_date, rgb_latest_process_date = update_date_range(rgb_earliest_process_date, rgb_latest_process_date, process_date)\n",
    "    elif \"BC\" in file:\n",
    "        mask_earliest_satellite_date, mask_latest_satellite_date = update_date_range(mask_earliest_satellite_date, mask_latest_satellite_date, satellite_date)\n",
    "        mask_earliest_process_date, mask_latest_process_date = update_date_range(mask_earliest_process_date, mask_latest_process_date, process_date)\n",
    "    \n",
    "print(f\"Total number of TIF files: {tif_file_count}\")\n",
    "print(f\"Number of CONUS TIF files: {conus_count}\")\n",
    "print(f\"Number of ALASKA TIF files: {alaska_count}\")\n",
    "print(f\"Number of HAWAII TIF files: {hawaii_count}\")\n",
    "\n",
    "\n",
    "print(f\"Mask satellite date range: {mask_earliest_satellite_date:%Y-%m-%d} to {mask_latest_satellite_date:%Y-%m-%d}\")\n",
    "print(f\"RGB satellite date range:  {rgb_earliest_satellite_date:%Y-%m-%d} to {rgb_latest_satellite_date:%Y-%m-%d}\")\n",
    "\n",
    "print(f\"Mask process date range:   {mask_earliest_process_date:%Y-%m-%d} to {mask_latest_process_date:%Y-%m-%d}\")\n",
    "print(f\"RGB process date range:    {rgb_earliest_process_date:%Y-%m-%d} to {rgb_latest_process_date:%Y-%m-%d}\")"
   ]
  }
 ],
 "metadata": {
  "kernelspec": {
   "display_name": "ai4con",
   "language": "python",
   "name": "python3"
  },
  "language_info": {
   "codemirror_mode": {
    "name": "ipython",
    "version": 3
   },
   "file_extension": ".py",
   "mimetype": "text/x-python",
   "name": "python",
   "nbconvert_exporter": "python",
   "pygments_lexer": "ipython3",
   "version": "3.10.14"
  }
 },
 "nbformat": 4,
 "nbformat_minor": 2
}
